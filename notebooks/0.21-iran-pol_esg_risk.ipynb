{
 "cells": [
  {
   "cell_type": "markdown",
   "metadata": {
    "toc": "true"
   },
   "source": [
    "# Table of Contents\n",
    " <p><div class=\"lev1\"><a href=\"#Initialization-Cells\"><span class=\"toc-item-num\">1 - </span>Initialization Cells</a></div><div class=\"lev1\"><a href=\"#Gather-Data-from-Big-Query-GDELT\"><span class=\"toc-item-num\">2 - </span>Gather Data from Big Query GDELT</a></div><div class=\"lev2\"><a href=\"#Original-Queries\"><span class=\"toc-item-num\">2.1 - </span>Original Queries</a></div><div class=\"lev1\"><a href=\"#New-Queries---Multiple-Years-and-Quarter\"><span class=\"toc-item-num\">3 - </span>New Queries - Multiple Years and Quarter</a></div>"
   ]
  },
  {
   "cell_type": "markdown",
   "metadata": {},
   "source": [
    "# Initialization Cells"
   ]
  },
  {
   "cell_type": "code",
   "execution_count": 1,
   "metadata": {
    "collapsed": true
   },
   "outputs": [],
   "source": [
    "%load_ext autoreload\n",
    "%autoreload 2\n",
    "%reload_ext autoreload"
   ]
  },
  {
   "cell_type": "code",
   "execution_count": 2,
   "metadata": {
    "collapsed": true
   },
   "outputs": [],
   "source": [
    "\n",
    "import json\n",
    "import os\n",
    "import pandas as pd\n",
    "from shapely.geometry import shape, Point"
   ]
  },
  {
   "cell_type": "code",
   "execution_count": 3,
   "metadata": {
    "collapsed": true
   },
   "outputs": [],
   "source": [
    "from geo import geo"
   ]
  },
  {
   "cell_type": "markdown",
   "metadata": {},
   "source": [
    "# Gather Data from Big Query GDELT"
   ]
  },
  {
   "cell_type": "code",
   "execution_count": 4,
   "metadata": {
    "collapsed": true
   },
   "outputs": [],
   "source": [
    "# Imports the Google Cloud client library\n",
    "from google.cloud import bigquery\n",
    "from pandas.io import gbq\n",
    "import pandas as pd\n",
    "\n",
    "\n",
    "#gbq._authenticate = lambda: client\n",
    "# Instantiates a client\n",
    "bigquery_client = bigquery.Client()\n"
   ]
  },
  {
   "cell_type": "markdown",
   "metadata": {},
   "source": [
    "## Original Queries\n"
   ]
  },
  {
   "cell_type": "code",
   "execution_count": 76,
   "metadata": {
    "collapsed": true
   },
   "outputs": [],
   "source": [
    "# political event counts and average \n",
    "query_pol = \"\"\"SELECT count(*),  count(*) / count(distinct(SQLDATE)),ActionGeo_ADM1Code\n",
    "FROM [gdelt-bq:gdeltv2.events]\n",
    "WHERE IsRootEvent=1\n",
    "AND SQLDATE>20170601 AND SQLDATE<20170901\n",
    "AND ActionGeo_CountryCode='IR'\n",
    "AND (EventCode='1721' OR EventCode='1722' OR EventCode='1723' OR EventCode='1724' OR EventBaseCode='173' OR EventBaseCode='174' OR EventBaseCode='182' OR EventBaseCode='183')\n",
    "GROUP BY ActionGeo_ADM1Code, \n",
    "ORDER BY ActionGeo_ADM1Code\n",
    "\"\"\""
   ]
  },
  {
   "cell_type": "code",
   "execution_count": 103,
   "metadata": {
    "collapsed": true
   },
   "outputs": [],
   "source": [
    "# ESG event counts and average\n",
    "query_esg = \"\"\"SELECT count(*),  count(*) / count(distinct(SQLDATE)),ActionGeo_ADM1Code\n",
    "FROM [gdelt-bq:gdeltv2.events]\n",
    "WHERE IsRootEvent=1\n",
    "AND SQLDATE>20170101 AND SQLDATE<20170901\n",
    "AND ActionGeo_CountryCode='IR'\n",
    "AND (Actor1Type1Code='ENV' OR Actor1Type2Code= 'ENV' OR Actor1Type3Code='ENV' \n",
    "OR Actor1Type1Code='LAB' OR Actor1Type2Code= 'LAB' OR Actor1Type3Code='LAB' OR \n",
    "Actor1KnownGroupCode='IGOUNOLABILO' OR Actor1KnownGroupCode='IGOUNOLABILO' OR Actor1KnownGroupCode='NGOIHF')\n",
    "GROUP BY ActionGeo_ADM1Code\n",
    "ORDER BY ActionGeo_ADM1Code\n",
    "\"\"\""
   ]
  },
  {
   "cell_type": "markdown",
   "metadata": {},
   "source": [
    "# New Queries - Multiple Years and Quarter"
   ]
  },
  {
   "cell_type": "code",
   "execution_count": 14,
   "metadata": {
    "collapsed": true
   },
   "outputs": [],
   "source": [
    "# political event counts and average \n",
    "query_pol = \"\"\"SELECT count(*),  count(*) / count(distinct(SQLDATE)),ActionGeo_ADM1Code, Quarter(DATE(CAST(SQLDATE as STRING))) as q, Year(DATE(CAST(SQLDATE as STRING))) as y\n",
    "FROM [gdelt-bq:gdeltv2.events]\n",
    "WHERE IsRootEvent=1\n",
    "AND  Year > 2014\n",
    "AND ActionGeo_CountryCode='IR'\n",
    "AND (EventCode='1721' OR EventCode='1722' OR EventCode='1723' OR EventCode='1724' OR EventBaseCode='173' OR EventBaseCode='174' OR EventBaseCode='182' OR EventBaseCode='183')\n",
    "GROUP BY ActionGeo_ADM1Code,y,q\n",
    "ORDER BY ActionGeo_ADM1Code, y, q\n",
    "\"\"\""
   ]
  },
  {
   "cell_type": "code",
   "execution_count": 15,
   "metadata": {
    "collapsed": true
   },
   "outputs": [],
   "source": [
    "# ESG event counts and average\n",
    "query_esg = \"\"\"SELECT count(*),  count(*) / count(distinct(SQLDATE)),ActionGeo_ADM1Code, Quarter(DATE(CAST(SQLDATE as STRING))) as q, Year(DATE(CAST(SQLDATE as STRING))) as y\n",
    "FROM [gdelt-bq:gdeltv2.events]\n",
    "WHERE IsRootEvent=1\n",
    "AND Year > 2014\n",
    "AND ActionGeo_CountryCode='IR'\n",
    "AND (Actor1Type1Code='ENV' OR Actor1Type2Code= 'ENV' OR Actor1Type3Code='ENV' \n",
    "OR Actor1Type1Code='LAB' OR Actor1Type2Code= 'LAB' OR Actor1Type3Code='LAB' OR \n",
    "Actor1KnownGroupCode='IGOUNOLABILO' OR Actor1KnownGroupCode='IGOUNOLABILO' OR Actor1KnownGroupCode='NGOIHF')\n",
    "GROUP BY ActionGeo_ADM1Code,y,q\n",
    "ORDER BY ActionGeo_ADM1Code, y, q\n",
    "\"\"\""
   ]
  },
  {
   "cell_type": "markdown",
   "metadata": {},
   "source": [
    "## Execute Queries"
   ]
  },
  {
   "cell_type": "code",
   "execution_count": 16,
   "metadata": {},
   "outputs": [
    {
     "name": "stderr",
     "output_type": "stream",
     "text": [
      "URL being requested: POST https://www.googleapis.com/bigquery/v2/projects/expedition-hacks-morocco/jobs?alt=json\n",
      "Making request: POST https://accounts.google.com/o/oauth2/token\n"
     ]
    },
    {
     "name": "stdout",
     "output_type": "stream",
     "text": [
      "Requesting query... "
     ]
    },
    {
     "name": "stderr",
     "output_type": "stream",
     "text": [
      "URL being requested: POST https://www.googleapis.com/bigquery/v2/projects/expedition-hacks-morocco/jobs?alt=json\n"
     ]
    },
    {
     "name": "stdout",
     "output_type": "stream",
     "text": [
      "ok.\n",
      "Job ID: job_XXqJDJgkDekKRE1y2Q13ujrT9Ie3\n",
      "Query running...\n"
     ]
    },
    {
     "name": "stderr",
     "output_type": "stream",
     "text": [
      "URL being requested: GET https://www.googleapis.com/bigquery/v2/projects/expedition-hacks-morocco/queries/job_XXqJDJgkDekKRE1y2Q13ujrT9Ie3?alt=json\n"
     ]
    },
    {
     "name": "stdout",
     "output_type": "stream",
     "text": [
      "Query done.\n",
      "Processed: 11.5 GB\n",
      "Standard price: $0.06 USD\n",
      "\n",
      "Retrieving results...\n",
      "Got 397 rows.\n",
      "\n",
      "Total time taken 2.04 s.\n",
      "Finished at 2017-10-14 02:14:55.\n"
     ]
    },
    {
     "name": "stderr",
     "output_type": "stream",
     "text": [
      "URL being requested: POST https://www.googleapis.com/bigquery/v2/projects/expedition-hacks-morocco/jobs?alt=json\n",
      "Making request: POST https://accounts.google.com/o/oauth2/token\n"
     ]
    },
    {
     "name": "stdout",
     "output_type": "stream",
     "text": [
      "Requesting query... "
     ]
    },
    {
     "name": "stderr",
     "output_type": "stream",
     "text": [
      "URL being requested: POST https://www.googleapis.com/bigquery/v2/projects/expedition-hacks-morocco/jobs?alt=json\n"
     ]
    },
    {
     "name": "stdout",
     "output_type": "stream",
     "text": [
      "ok.\n",
      "Job ID: job_KsCf-FQiGjxGtVlP5Ds2UMhQ3pKn\n",
      "Query running...\n"
     ]
    },
    {
     "name": "stderr",
     "output_type": "stream",
     "text": [
      "URL being requested: GET https://www.googleapis.com/bigquery/v2/projects/expedition-hacks-morocco/queries/job_KsCf-FQiGjxGtVlP5Ds2UMhQ3pKn?alt=json\n"
     ]
    },
    {
     "name": "stdout",
     "output_type": "stream",
     "text": [
      "Query done.\n",
      "Processed: 9.5 GB\n",
      "Standard price: $0.05 USD\n",
      "\n",
      "Retrieving results...\n",
      "Got 341 rows.\n",
      "\n",
      "Total time taken 1.75 s.\n",
      "Finished at 2017-10-14 02:14:58.\n"
     ]
    }
   ],
   "source": [
    "results_pol = gbq.read_gbq(query_pol, project_id='expedition-hacks-morocco')\n",
    "results_pol.columns = ['pol count', 'pol average', 'Adm1Code', 'quarter', 'year']\n",
    "results_esg = gbq.read_gbq(query_esg, project_id='expedition-hacks-morocco')\n",
    "results_esg.columns = ['esg count', 'esg average', 'Adm1Code','quarter', 'year']\n"
   ]
  },
  {
   "cell_type": "code",
   "execution_count": 24,
   "metadata": {
    "collapsed": true
   },
   "outputs": [],
   "source": [
    "results_pol.to_csv('iran_results_pol')\n",
    "results_esg.to_csv('iran_results_esg')"
   ]
  },
  {
   "cell_type": "code",
   "execution_count": 22,
   "metadata": {},
   "outputs": [
    {
     "data": {
      "text/html": [
       "<div>\n",
       "<style>\n",
       "    .dataframe thead tr:only-child th {\n",
       "        text-align: right;\n",
       "    }\n",
       "\n",
       "    .dataframe thead th {\n",
       "        text-align: left;\n",
       "    }\n",
       "\n",
       "    .dataframe tbody tr th {\n",
       "        vertical-align: top;\n",
       "    }\n",
       "</style>\n",
       "<table border=\"1\" class=\"dataframe\">\n",
       "  <thead>\n",
       "    <tr style=\"text-align: right;\">\n",
       "      <th></th>\n",
       "      <th>pol count</th>\n",
       "      <th>pol average</th>\n",
       "      <th>Adm1Code</th>\n",
       "      <th>quarter</th>\n",
       "      <th>year</th>\n",
       "    </tr>\n",
       "  </thead>\n",
       "  <tbody>\n",
       "    <tr>\n",
       "      <th>0</th>\n",
       "      <td>1186</td>\n",
       "      <td>22.807692</td>\n",
       "      <td>IR</td>\n",
       "      <td>1</td>\n",
       "      <td>2015</td>\n",
       "    </tr>\n",
       "    <tr>\n",
       "      <th>1</th>\n",
       "      <td>2549</td>\n",
       "      <td>28.010989</td>\n",
       "      <td>IR</td>\n",
       "      <td>2</td>\n",
       "      <td>2015</td>\n",
       "    </tr>\n",
       "    <tr>\n",
       "      <th>2</th>\n",
       "      <td>2725</td>\n",
       "      <td>29.619565</td>\n",
       "      <td>IR</td>\n",
       "      <td>3</td>\n",
       "      <td>2015</td>\n",
       "    </tr>\n",
       "    <tr>\n",
       "      <th>3</th>\n",
       "      <td>2557</td>\n",
       "      <td>27.793478</td>\n",
       "      <td>IR</td>\n",
       "      <td>4</td>\n",
       "      <td>2015</td>\n",
       "    </tr>\n",
       "    <tr>\n",
       "      <th>4</th>\n",
       "      <td>3557</td>\n",
       "      <td>39.087912</td>\n",
       "      <td>IR</td>\n",
       "      <td>1</td>\n",
       "      <td>2016</td>\n",
       "    </tr>\n",
       "  </tbody>\n",
       "</table>\n",
       "</div>"
      ],
      "text/plain": [
       "   pol count  pol average Adm1Code  quarter  year\n",
       "0       1186    22.807692       IR        1  2015\n",
       "1       2549    28.010989       IR        2  2015\n",
       "2       2725    29.619565       IR        3  2015\n",
       "3       2557    27.793478       IR        4  2015\n",
       "4       3557    39.087912       IR        1  2016"
      ]
     },
     "execution_count": 22,
     "metadata": {},
     "output_type": "execute_result"
    }
   ],
   "source": [
    "results_pol.head()"
   ]
  },
  {
   "cell_type": "code",
   "execution_count": 23,
   "metadata": {},
   "outputs": [
    {
     "data": {
      "text/html": [
       "<div>\n",
       "<style>\n",
       "    .dataframe thead tr:only-child th {\n",
       "        text-align: right;\n",
       "    }\n",
       "\n",
       "    .dataframe thead th {\n",
       "        text-align: left;\n",
       "    }\n",
       "\n",
       "    .dataframe tbody tr th {\n",
       "        vertical-align: top;\n",
       "    }\n",
       "</style>\n",
       "<table border=\"1\" class=\"dataframe\">\n",
       "  <thead>\n",
       "    <tr style=\"text-align: right;\">\n",
       "      <th></th>\n",
       "      <th>esg count</th>\n",
       "      <th>esg average</th>\n",
       "      <th>Adm1Code</th>\n",
       "      <th>quarter</th>\n",
       "      <th>year</th>\n",
       "    </tr>\n",
       "  </thead>\n",
       "  <tbody>\n",
       "    <tr>\n",
       "      <th>0</th>\n",
       "      <td>132</td>\n",
       "      <td>3.473684</td>\n",
       "      <td>IR</td>\n",
       "      <td>1</td>\n",
       "      <td>2015</td>\n",
       "    </tr>\n",
       "    <tr>\n",
       "      <th>1</th>\n",
       "      <td>230</td>\n",
       "      <td>3.150685</td>\n",
       "      <td>IR</td>\n",
       "      <td>2</td>\n",
       "      <td>2015</td>\n",
       "    </tr>\n",
       "    <tr>\n",
       "      <th>2</th>\n",
       "      <td>342</td>\n",
       "      <td>3.931034</td>\n",
       "      <td>IR</td>\n",
       "      <td>3</td>\n",
       "      <td>2015</td>\n",
       "    </tr>\n",
       "    <tr>\n",
       "      <th>3</th>\n",
       "      <td>235</td>\n",
       "      <td>2.901235</td>\n",
       "      <td>IR</td>\n",
       "      <td>4</td>\n",
       "      <td>2015</td>\n",
       "    </tr>\n",
       "    <tr>\n",
       "      <th>4</th>\n",
       "      <td>325</td>\n",
       "      <td>3.869048</td>\n",
       "      <td>IR</td>\n",
       "      <td>1</td>\n",
       "      <td>2016</td>\n",
       "    </tr>\n",
       "  </tbody>\n",
       "</table>\n",
       "</div>"
      ],
      "text/plain": [
       "   esg count  esg average Adm1Code  quarter  year\n",
       "0        132     3.473684       IR        1  2015\n",
       "1        230     3.150685       IR        2  2015\n",
       "2        342     3.931034       IR        3  2015\n",
       "3        235     2.901235       IR        4  2015\n",
       "4        325     3.869048       IR        1  2016"
      ]
     },
     "execution_count": 23,
     "metadata": {},
     "output_type": "execute_result"
    }
   ],
   "source": [
    "results_esg.head()"
   ]
  },
  {
   "cell_type": "code",
   "execution_count": null,
   "metadata": {
    "collapsed": true
   },
   "outputs": [],
   "source": []
  }
 ],
 "metadata": {
  "kernelspec": {
   "display_name": "Python 3",
   "language": "python",
   "name": "python3"
  },
  "language_info": {
   "codemirror_mode": {
    "name": "ipython",
    "version": 3
   },
   "file_extension": ".py",
   "mimetype": "text/x-python",
   "name": "python",
   "nbconvert_exporter": "python",
   "pygments_lexer": "ipython3",
   "version": "3.6.2"
  },
  "toc": {
   "toc_cell": true,
   "toc_number_sections": true,
   "toc_threshold": 4,
   "toc_window_display": false
  }
 },
 "nbformat": 4,
 "nbformat_minor": 2
}
