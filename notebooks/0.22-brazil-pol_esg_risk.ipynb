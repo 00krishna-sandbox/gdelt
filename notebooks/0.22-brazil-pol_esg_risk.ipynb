{
 "cells": [
  {
   "cell_type": "markdown",
   "metadata": {
    "toc": "true"
   },
   "source": [
    "# Table of Contents\n",
    " <p><div class=\"lev1\"><a href=\"#Initialization-Cells\"><span class=\"toc-item-num\">1 - </span>Initialization Cells</a></div><div class=\"lev1\"><a href=\"#Gather-Data-from-Big-Query-GDELT\"><span class=\"toc-item-num\">2 - </span>Gather Data from Big Query GDELT</a></div><div class=\"lev2\"><a href=\"#Original-Queries\"><span class=\"toc-item-num\">2.1 - </span>Original Queries</a></div><div class=\"lev1\"><a href=\"#New-Queries---Multiple-Years-and-Quarter\"><span class=\"toc-item-num\">3 - </span>New Queries - Multiple Years and Quarter</a></div><div class=\"lev2\"><a href=\"#Execute-Queries\"><span class=\"toc-item-num\">3.1 - </span>Execute Queries</a></div>"
   ]
  },
  {
   "cell_type": "markdown",
   "metadata": {},
   "source": [
    "# Initialization Cells"
   ]
  },
  {
   "cell_type": "code",
   "execution_count": 1,
   "metadata": {
    "collapsed": true
   },
   "outputs": [],
   "source": [
    "%load_ext autoreload\n",
    "%autoreload 2\n",
    "%reload_ext autoreload"
   ]
  },
  {
   "cell_type": "code",
   "execution_count": 2,
   "metadata": {
    "collapsed": true
   },
   "outputs": [],
   "source": [
    "\n",
    "import json\n",
    "import os\n",
    "import pandas as pd\n",
    "from shapely.geometry import shape, Point"
   ]
  },
  {
   "cell_type": "code",
   "execution_count": 3,
   "metadata": {
    "collapsed": true
   },
   "outputs": [],
   "source": [
    "from geo import geo"
   ]
  },
  {
   "cell_type": "markdown",
   "metadata": {},
   "source": [
    "# Gather Data from Big Query GDELT"
   ]
  },
  {
   "cell_type": "code",
   "execution_count": 4,
   "metadata": {
    "collapsed": true
   },
   "outputs": [],
   "source": [
    "# Imports the Google Cloud client library\n",
    "from google.cloud import bigquery\n",
    "from pandas.io import gbq\n",
    "import pandas as pd\n",
    "\n",
    "\n",
    "#gbq._authenticate = lambda: client\n",
    "# Instantiates a client\n",
    "bigquery_client = bigquery.Client()\n"
   ]
  },
  {
   "cell_type": "markdown",
   "metadata": {},
   "source": [
    "## Original Queries\n"
   ]
  },
  {
   "cell_type": "code",
   "execution_count": 76,
   "metadata": {
    "collapsed": true
   },
   "outputs": [],
   "source": [
    "# political event counts and average \n",
    "query_pol = \"\"\"SELECT count(*),  count(*) / count(distinct(SQLDATE)),ActionGeo_ADM1Code\n",
    "FROM [gdelt-bq:gdeltv2.events]\n",
    "WHERE IsRootEvent=1\n",
    "AND SQLDATE>20170601 AND SQLDATE<20170901\n",
    "AND ActionGeo_CountryCode='BR'\n",
    "AND (EventCode='1721' OR EventCode='1722' OR EventCode='1723' OR EventCode='1724' OR EventBaseCode='173' OR EventBaseCode='174' OR EventBaseCode='182' OR EventBaseCode='183')\n",
    "GROUP BY ActionGeo_ADM1Code, \n",
    "ORDER BY ActionGeo_ADM1Code\n",
    "\"\"\""
   ]
  },
  {
   "cell_type": "code",
   "execution_count": 103,
   "metadata": {
    "collapsed": true
   },
   "outputs": [],
   "source": [
    "# ESG event counts and average\n",
    "query_esg = \"\"\"SELECT count(*),  count(*) / count(distinct(SQLDATE)),ActionGeo_ADM1Code\n",
    "FROM [gdelt-bq:gdeltv2.events]\n",
    "WHERE IsRootEvent=1\n",
    "AND SQLDATE>20170101 AND SQLDATE<20170901\n",
    "AND ActionGeo_CountryCode='BR'\n",
    "AND (Actor1Type1Code='ENV' OR Actor1Type2Code= 'ENV' OR Actor1Type3Code='ENV' \n",
    "OR Actor1Type1Code='LAB' OR Actor1Type2Code= 'LAB' OR Actor1Type3Code='LAB' OR \n",
    "Actor1KnownGroupCode='IGOUNOLABILO' OR Actor1KnownGroupCode='IGOUNOLABILO' OR Actor1KnownGroupCode='NGOIHF')\n",
    "GROUP BY ActionGeo_ADM1Code\n",
    "ORDER BY ActionGeo_ADM1Code\n",
    "\"\"\""
   ]
  },
  {
   "cell_type": "markdown",
   "metadata": {},
   "source": [
    "# New Queries - Multiple Years and Quarter"
   ]
  },
  {
   "cell_type": "code",
   "execution_count": 5,
   "metadata": {
    "collapsed": true
   },
   "outputs": [],
   "source": [
    "# political event counts and average \n",
    "query_pol = \"\"\"SELECT count(*),  count(*) / count(distinct(SQLDATE)),ActionGeo_ADM1Code, Quarter(DATE(CAST(SQLDATE as STRING))) as q, Year(DATE(CAST(SQLDATE as STRING))) as y\n",
    "FROM [gdelt-bq:gdeltv2.events]\n",
    "WHERE IsRootEvent=1\n",
    "AND  Year > 2014\n",
    "AND ActionGeo_CountryCode='BR'\n",
    "AND (EventCode='1721' OR EventCode='1722' OR EventCode='1723' OR EventCode='1724' OR EventBaseCode='173' OR EventBaseCode='174' OR EventBaseCode='182' OR EventBaseCode='183')\n",
    "GROUP BY ActionGeo_ADM1Code,y,q\n",
    "ORDER BY ActionGeo_ADM1Code, y, q\n",
    "\"\"\""
   ]
  },
  {
   "cell_type": "code",
   "execution_count": 6,
   "metadata": {
    "collapsed": true
   },
   "outputs": [],
   "source": [
    "# ESG event counts and average\n",
    "query_esg = \"\"\"SELECT count(*),  count(*) / count(distinct(SQLDATE)),ActionGeo_ADM1Code, Quarter(DATE(CAST(SQLDATE as STRING))) as q, Year(DATE(CAST(SQLDATE as STRING))) as y\n",
    "FROM [gdelt-bq:gdeltv2.events]\n",
    "WHERE IsRootEvent=1\n",
    "AND Year > 2014\n",
    "AND ActionGeo_CountryCode='BR'\n",
    "AND (Actor1Type1Code='ENV' OR Actor1Type2Code= 'ENV' OR Actor1Type3Code='ENV' \n",
    "OR Actor1Type1Code='LAB' OR Actor1Type2Code= 'LAB' OR Actor1Type3Code='LAB' OR \n",
    "Actor1KnownGroupCode='IGOUNOLABILO' OR Actor1KnownGroupCode='IGOUNOLABILO' OR Actor1KnownGroupCode='NGOIHF')\n",
    "GROUP BY ActionGeo_ADM1Code,y,q\n",
    "ORDER BY ActionGeo_ADM1Code, y, q\n",
    "\"\"\""
   ]
  },
  {
   "cell_type": "markdown",
   "metadata": {},
   "source": [
    "## Execute Queries"
   ]
  },
  {
   "cell_type": "code",
   "execution_count": 7,
   "metadata": {},
   "outputs": [
    {
     "name": "stderr",
     "output_type": "stream",
     "text": [
      "URL being requested: POST https://www.googleapis.com/bigquery/v2/projects/expedition-hacks-morocco/jobs?alt=json\n",
      "Making request: POST https://accounts.google.com/o/oauth2/token\n"
     ]
    },
    {
     "name": "stdout",
     "output_type": "stream",
     "text": [
      "Requesting query... "
     ]
    },
    {
     "name": "stderr",
     "output_type": "stream",
     "text": [
      "URL being requested: POST https://www.googleapis.com/bigquery/v2/projects/expedition-hacks-morocco/jobs?alt=json\n"
     ]
    },
    {
     "name": "stdout",
     "output_type": "stream",
     "text": [
      "ok.\n",
      "Job ID: job_ZhrjPLVraq1DW3taln7cjEReF-0M\n",
      "Query running...\n"
     ]
    },
    {
     "name": "stderr",
     "output_type": "stream",
     "text": [
      "URL being requested: GET https://www.googleapis.com/bigquery/v2/projects/expedition-hacks-morocco/queries/job_ZhrjPLVraq1DW3taln7cjEReF-0M?alt=json\n"
     ]
    },
    {
     "name": "stdout",
     "output_type": "stream",
     "text": [
      "Query done.\n",
      "Processed: 11.5 GB\n",
      "Standard price: $0.06 USD\n",
      "\n",
      "Retrieving results...\n",
      "Got 339 rows.\n",
      "\n",
      "Total time taken 1.86 s.\n",
      "Finished at 2017-10-14 02:23:59.\n"
     ]
    },
    {
     "name": "stderr",
     "output_type": "stream",
     "text": [
      "URL being requested: POST https://www.googleapis.com/bigquery/v2/projects/expedition-hacks-morocco/jobs?alt=json\n",
      "Making request: POST https://accounts.google.com/o/oauth2/token\n"
     ]
    },
    {
     "name": "stdout",
     "output_type": "stream",
     "text": [
      "Requesting query... "
     ]
    },
    {
     "name": "stderr",
     "output_type": "stream",
     "text": [
      "URL being requested: POST https://www.googleapis.com/bigquery/v2/projects/expedition-hacks-morocco/jobs?alt=json\n"
     ]
    },
    {
     "name": "stdout",
     "output_type": "stream",
     "text": [
      "ok.\n",
      "Job ID: job_1NkIfS3iyRmqeRHc31XZKlGwtHaI\n",
      "Query running...\n"
     ]
    },
    {
     "name": "stderr",
     "output_type": "stream",
     "text": [
      "URL being requested: GET https://www.googleapis.com/bigquery/v2/projects/expedition-hacks-morocco/queries/job_1NkIfS3iyRmqeRHc31XZKlGwtHaI?alt=json\n"
     ]
    },
    {
     "name": "stdout",
     "output_type": "stream",
     "text": [
      "Query done.\n",
      "Processed: 9.5 GB\n",
      "Standard price: $0.05 USD\n",
      "\n",
      "Retrieving results...\n",
      "Got 316 rows.\n",
      "\n",
      "Total time taken 1.85 s.\n",
      "Finished at 2017-10-14 02:24:02.\n"
     ]
    }
   ],
   "source": [
    "results_pol = gbq.read_gbq(query_pol, project_id='expedition-hacks-morocco')\n",
    "results_pol.columns = ['pol count', 'pol average', 'Adm1Code', 'quarter', 'year']\n",
    "results_esg = gbq.read_gbq(query_esg, project_id='expedition-hacks-morocco')\n",
    "results_esg.columns = ['esg count', 'esg average', 'Adm1Code','quarter', 'year']\n"
   ]
  },
  {
   "cell_type": "code",
   "execution_count": 8,
   "metadata": {
    "collapsed": true
   },
   "outputs": [],
   "source": [
    "results_pol.to_csv('brazil_results_pol.csv')\n",
    "results_esg.to_csv('brazil_results_esg.csv')"
   ]
  },
  {
   "cell_type": "code",
   "execution_count": 9,
   "metadata": {},
   "outputs": [
    {
     "data": {
      "text/html": [
       "<div>\n",
       "<style>\n",
       "    .dataframe thead tr:only-child th {\n",
       "        text-align: right;\n",
       "    }\n",
       "\n",
       "    .dataframe thead th {\n",
       "        text-align: left;\n",
       "    }\n",
       "\n",
       "    .dataframe tbody tr th {\n",
       "        vertical-align: top;\n",
       "    }\n",
       "</style>\n",
       "<table border=\"1\" class=\"dataframe\">\n",
       "  <thead>\n",
       "    <tr style=\"text-align: right;\">\n",
       "      <th></th>\n",
       "      <th>pol count</th>\n",
       "      <th>pol average</th>\n",
       "      <th>Adm1Code</th>\n",
       "      <th>quarter</th>\n",
       "      <th>year</th>\n",
       "    </tr>\n",
       "  </thead>\n",
       "  <tbody>\n",
       "    <tr>\n",
       "      <th>0</th>\n",
       "      <td>926</td>\n",
       "      <td>17.807692</td>\n",
       "      <td>BR</td>\n",
       "      <td>1</td>\n",
       "      <td>2015</td>\n",
       "    </tr>\n",
       "    <tr>\n",
       "      <th>1</th>\n",
       "      <td>1512</td>\n",
       "      <td>16.615385</td>\n",
       "      <td>BR</td>\n",
       "      <td>2</td>\n",
       "      <td>2015</td>\n",
       "    </tr>\n",
       "    <tr>\n",
       "      <th>2</th>\n",
       "      <td>1383</td>\n",
       "      <td>15.032609</td>\n",
       "      <td>BR</td>\n",
       "      <td>3</td>\n",
       "      <td>2015</td>\n",
       "    </tr>\n",
       "    <tr>\n",
       "      <th>3</th>\n",
       "      <td>1448</td>\n",
       "      <td>15.739130</td>\n",
       "      <td>BR</td>\n",
       "      <td>4</td>\n",
       "      <td>2015</td>\n",
       "    </tr>\n",
       "    <tr>\n",
       "      <th>4</th>\n",
       "      <td>2005</td>\n",
       "      <td>22.032967</td>\n",
       "      <td>BR</td>\n",
       "      <td>1</td>\n",
       "      <td>2016</td>\n",
       "    </tr>\n",
       "  </tbody>\n",
       "</table>\n",
       "</div>"
      ],
      "text/plain": [
       "   pol count  pol average Adm1Code  quarter  year\n",
       "0        926    17.807692       BR        1  2015\n",
       "1       1512    16.615385       BR        2  2015\n",
       "2       1383    15.032609       BR        3  2015\n",
       "3       1448    15.739130       BR        4  2015\n",
       "4       2005    22.032967       BR        1  2016"
      ]
     },
     "execution_count": 9,
     "metadata": {},
     "output_type": "execute_result"
    }
   ],
   "source": [
    "results_pol.head()"
   ]
  },
  {
   "cell_type": "code",
   "execution_count": 10,
   "metadata": {},
   "outputs": [
    {
     "data": {
      "text/html": [
       "<div>\n",
       "<style>\n",
       "    .dataframe thead tr:only-child th {\n",
       "        text-align: right;\n",
       "    }\n",
       "\n",
       "    .dataframe thead th {\n",
       "        text-align: left;\n",
       "    }\n",
       "\n",
       "    .dataframe tbody tr th {\n",
       "        vertical-align: top;\n",
       "    }\n",
       "</style>\n",
       "<table border=\"1\" class=\"dataframe\">\n",
       "  <thead>\n",
       "    <tr style=\"text-align: right;\">\n",
       "      <th></th>\n",
       "      <th>esg count</th>\n",
       "      <th>esg average</th>\n",
       "      <th>Adm1Code</th>\n",
       "      <th>quarter</th>\n",
       "      <th>year</th>\n",
       "    </tr>\n",
       "  </thead>\n",
       "  <tbody>\n",
       "    <tr>\n",
       "      <th>0</th>\n",
       "      <td>260</td>\n",
       "      <td>6.190476</td>\n",
       "      <td>BR</td>\n",
       "      <td>1</td>\n",
       "      <td>2015</td>\n",
       "    </tr>\n",
       "    <tr>\n",
       "      <th>1</th>\n",
       "      <td>739</td>\n",
       "      <td>8.211111</td>\n",
       "      <td>BR</td>\n",
       "      <td>2</td>\n",
       "      <td>2015</td>\n",
       "    </tr>\n",
       "    <tr>\n",
       "      <th>2</th>\n",
       "      <td>714</td>\n",
       "      <td>7.933333</td>\n",
       "      <td>BR</td>\n",
       "      <td>3</td>\n",
       "      <td>2015</td>\n",
       "    </tr>\n",
       "    <tr>\n",
       "      <th>3</th>\n",
       "      <td>797</td>\n",
       "      <td>8.955056</td>\n",
       "      <td>BR</td>\n",
       "      <td>4</td>\n",
       "      <td>2015</td>\n",
       "    </tr>\n",
       "    <tr>\n",
       "      <th>4</th>\n",
       "      <td>759</td>\n",
       "      <td>8.340659</td>\n",
       "      <td>BR</td>\n",
       "      <td>1</td>\n",
       "      <td>2016</td>\n",
       "    </tr>\n",
       "  </tbody>\n",
       "</table>\n",
       "</div>"
      ],
      "text/plain": [
       "   esg count  esg average Adm1Code  quarter  year\n",
       "0        260     6.190476       BR        1  2015\n",
       "1        739     8.211111       BR        2  2015\n",
       "2        714     7.933333       BR        3  2015\n",
       "3        797     8.955056       BR        4  2015\n",
       "4        759     8.340659       BR        1  2016"
      ]
     },
     "execution_count": 10,
     "metadata": {},
     "output_type": "execute_result"
    }
   ],
   "source": [
    "results_esg.head()"
   ]
  },
  {
   "cell_type": "code",
   "execution_count": null,
   "metadata": {
    "collapsed": true
   },
   "outputs": [],
   "source": []
  }
 ],
 "metadata": {
  "kernelspec": {
   "display_name": "Python 3",
   "language": "python",
   "name": "python3"
  },
  "language_info": {
   "codemirror_mode": {
    "name": "ipython",
    "version": 3
   },
   "file_extension": ".py",
   "mimetype": "text/x-python",
   "name": "python",
   "nbconvert_exporter": "python",
   "pygments_lexer": "ipython3",
   "version": "3.6.2"
  },
  "toc": {
   "toc_cell": true,
   "toc_number_sections": true,
   "toc_threshold": 4,
   "toc_window_display": false
  }
 },
 "nbformat": 4,
 "nbformat_minor": 2
}
